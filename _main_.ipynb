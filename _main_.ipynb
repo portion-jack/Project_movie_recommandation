{
 "cells": [
  {
   "cell_type": "code",
   "execution_count": 21,
   "metadata": {},
   "outputs": [],
   "source": [
    "from utils.get_data import get_data\n",
    "\n",
    "from recommandation.recommand_general import recommand_general\n",
    "from recommandation.recommand_with_genre import recommand_with_genres\n",
    "from recommandation.recommand_with_movie import recommand_with_movies\n",
    "from recommandation.recommand_with_userid import recommand_user_id_ensemble"
   ]
  },
  {
   "cell_type": "code",
   "execution_count": 22,
   "metadata": {},
   "outputs": [],
   "source": [
    "# get merged data\n",
    "main_raw=get_data()\n",
    "\n",
    "# using data after 2009\n",
    "df_recent=main_raw[main_raw['year'] > 2010]\n",
    "\n",
    "# using data that has more than 5 reviews\n",
    "using_movies=df_recent.value_counts('title')[df_recent.value_counts('title') > 5].index\n",
    "\n",
    "df_main=df_recent[df_recent['title'].isin(using_movies)].reset_index(drop=True)"
   ]
  },
  {
   "cell_type": "code",
   "execution_count": 23,
   "metadata": {},
   "outputs": [
    {
     "name": "stdout",
     "output_type": "stream",
     "text": [
      "total raitings :  28006\n",
      "total movies :  1555\n",
      "total users :  232\n"
     ]
    }
   ],
   "source": [
    "print('total raitings : ',len(df_main))\n",
    "print('total movies : ',len(df_main['title'].unique()))\n",
    "print('total users : ',len(df_main['userId'].unique()))"
   ]
  },
  {
   "cell_type": "code",
   "execution_count": 24,
   "metadata": {},
   "outputs": [
    {
     "data": {
      "text/plain": "     userId  movieId  rating   timestamp                        title  \\\n0        15        1     2.5  1510577970             Toy Story (1995)   \n63       18        6     4.0  1460138360                  Heat (1995)   \n80       15       47     3.5  1510571970  Seven (a.k.a. Se7en) (1995)   \n142      16       50     4.0  1377476781   Usual Suspects, The (1995)   \n214      18       70     3.5  1455735732   From Dusk Till Dawn (1996)   \n\n                                          genres         time_line  year  \\\n0    Adventure|Animation|Children|Comedy|Fantasy  2017-11-13_21:11  2017   \n63                         Action|Crime|Thriller  2016-04-09_02:04  2016   \n80                              Mystery|Thriller  2017-11-13_20:11  2017   \n142                       Crime|Mystery|Thriller  2013-08-26_09:08  2013   \n214                Action|Comedy|Horror|Thriller  2016-02-18_04:02  2016   \n\n     month  \n0       11  \n63       4  \n80      11  \n142      8  \n214      2  ",
      "text/html": "<div>\n<style scoped>\n    .dataframe tbody tr th:only-of-type {\n        vertical-align: middle;\n    }\n\n    .dataframe tbody tr th {\n        vertical-align: top;\n    }\n\n    .dataframe thead th {\n        text-align: right;\n    }\n</style>\n<table border=\"1\" class=\"dataframe\">\n  <thead>\n    <tr style=\"text-align: right;\">\n      <th></th>\n      <th>userId</th>\n      <th>movieId</th>\n      <th>rating</th>\n      <th>timestamp</th>\n      <th>title</th>\n      <th>genres</th>\n      <th>time_line</th>\n      <th>year</th>\n      <th>month</th>\n    </tr>\n  </thead>\n  <tbody>\n    <tr>\n      <th>0</th>\n      <td>15</td>\n      <td>1</td>\n      <td>2.5</td>\n      <td>1510577970</td>\n      <td>Toy Story (1995)</td>\n      <td>Adventure|Animation|Children|Comedy|Fantasy</td>\n      <td>2017-11-13_21:11</td>\n      <td>2017</td>\n      <td>11</td>\n    </tr>\n    <tr>\n      <th>63</th>\n      <td>18</td>\n      <td>6</td>\n      <td>4.0</td>\n      <td>1460138360</td>\n      <td>Heat (1995)</td>\n      <td>Action|Crime|Thriller</td>\n      <td>2016-04-09_02:04</td>\n      <td>2016</td>\n      <td>4</td>\n    </tr>\n    <tr>\n      <th>80</th>\n      <td>15</td>\n      <td>47</td>\n      <td>3.5</td>\n      <td>1510571970</td>\n      <td>Seven (a.k.a. Se7en) (1995)</td>\n      <td>Mystery|Thriller</td>\n      <td>2017-11-13_20:11</td>\n      <td>2017</td>\n      <td>11</td>\n    </tr>\n    <tr>\n      <th>142</th>\n      <td>16</td>\n      <td>50</td>\n      <td>4.0</td>\n      <td>1377476781</td>\n      <td>Usual Suspects, The (1995)</td>\n      <td>Crime|Mystery|Thriller</td>\n      <td>2013-08-26_09:08</td>\n      <td>2013</td>\n      <td>8</td>\n    </tr>\n    <tr>\n      <th>214</th>\n      <td>18</td>\n      <td>70</td>\n      <td>3.5</td>\n      <td>1455735732</td>\n      <td>From Dusk Till Dawn (1996)</td>\n      <td>Action|Comedy|Horror|Thriller</td>\n      <td>2016-02-18_04:02</td>\n      <td>2016</td>\n      <td>2</td>\n    </tr>\n  </tbody>\n</table>\n</div>"
     },
     "execution_count": 24,
     "metadata": {},
     "output_type": "execute_result"
    }
   ],
   "source": [
    "df_main.drop_duplicates('title').head()"
   ]
  },
  {
   "cell_type": "code",
   "execution_count": 25,
   "metadata": {},
   "outputs": [
    {
     "data": {
      "text/plain": "                                        title       est\n0            Shawshank Redemption, The (1994)  4.335814\n1      One Flew Over the Cuckoo's Nest (1975)  4.293710\n2                         Shining, The (1980)  4.291110\n3  Life Is Beautiful (La Vita è bella) (1997)  4.266347\n4                         Pulp Fiction (1994)  4.256498\n5                           Goodfellas (1990)  4.247644\n6         Monty Python's Life of Brian (1979)  4.246504\n7                           Fight Club (1999)  4.239982\n8        Road Warrior, The (Mad Max 2) (1981)  4.236315\n9                       Godfather, The (1972)  4.223760",
      "text/html": "<div>\n<style scoped>\n    .dataframe tbody tr th:only-of-type {\n        vertical-align: middle;\n    }\n\n    .dataframe tbody tr th {\n        vertical-align: top;\n    }\n\n    .dataframe thead th {\n        text-align: right;\n    }\n</style>\n<table border=\"1\" class=\"dataframe\">\n  <thead>\n    <tr style=\"text-align: right;\">\n      <th></th>\n      <th>title</th>\n      <th>est</th>\n    </tr>\n  </thead>\n  <tbody>\n    <tr>\n      <th>0</th>\n      <td>Shawshank Redemption, The (1994)</td>\n      <td>4.335814</td>\n    </tr>\n    <tr>\n      <th>1</th>\n      <td>One Flew Over the Cuckoo's Nest (1975)</td>\n      <td>4.293710</td>\n    </tr>\n    <tr>\n      <th>2</th>\n      <td>Shining, The (1980)</td>\n      <td>4.291110</td>\n    </tr>\n    <tr>\n      <th>3</th>\n      <td>Life Is Beautiful (La Vita è bella) (1997)</td>\n      <td>4.266347</td>\n    </tr>\n    <tr>\n      <th>4</th>\n      <td>Pulp Fiction (1994)</td>\n      <td>4.256498</td>\n    </tr>\n    <tr>\n      <th>5</th>\n      <td>Goodfellas (1990)</td>\n      <td>4.247644</td>\n    </tr>\n    <tr>\n      <th>6</th>\n      <td>Monty Python's Life of Brian (1979)</td>\n      <td>4.246504</td>\n    </tr>\n    <tr>\n      <th>7</th>\n      <td>Fight Club (1999)</td>\n      <td>4.239982</td>\n    </tr>\n    <tr>\n      <th>8</th>\n      <td>Road Warrior, The (Mad Max 2) (1981)</td>\n      <td>4.236315</td>\n    </tr>\n    <tr>\n      <th>9</th>\n      <td>Godfather, The (1972)</td>\n      <td>4.223760</td>\n    </tr>\n  </tbody>\n</table>\n</div>"
     },
     "execution_count": 25,
     "metadata": {},
     "output_type": "execute_result"
    }
   ],
   "source": [
    "recommand_general(df_main,10)"
   ]
  },
  {
   "cell_type": "code",
   "execution_count": 26,
   "metadata": {},
   "outputs": [
    {
     "data": {
      "text/plain": "                                               title       est  \\\n0                                 Toy Story 3 (2010)  4.068198   \n1       My Neighbor Totoro (Tonari no Totoro) (1988)  4.008832   \n2  Laputa: Castle in the Sky (Tenkû no shiro Rapy...  3.978188   \n3                                 Toy Story 2 (1999)  3.974984   \n4                              Monsters, Inc. (2001)  3.965341   \n5                                   Toy Story (1995)  3.951217   \n6                        Beauty and the Beast (1991)  3.944668   \n7                                    Fantasia (1940)  3.943668   \n8                    How to Train Your Dragon (2010)  3.941652   \n9                                     Tangled (2010)  3.929927   \n\n                                              genres  \n0  [Adventure, Animation, Children, Comedy, Fanta...  \n1              [Animation, Children, Drama, Fantasy]  \n2  [Action, Adventure, Animation, Children, Fanta...  \n3  [Adventure, Animation, Children, Comedy, Fantasy]  \n4  [Adventure, Animation, Children, Comedy, Fantasy]  \n5  [Adventure, Animation, Children, Comedy, Fantasy]  \n6  [Animation, Children, Fantasy, Musical, Romanc...  \n7            [Animation, Children, Fantasy, Musical]  \n8    [Adventure, Animation, Children, Fantasy, IMAX]  \n9  [Animation, Children, Comedy, Fantasy, Musical...  ",
      "text/html": "<div>\n<style scoped>\n    .dataframe tbody tr th:only-of-type {\n        vertical-align: middle;\n    }\n\n    .dataframe tbody tr th {\n        vertical-align: top;\n    }\n\n    .dataframe thead th {\n        text-align: right;\n    }\n</style>\n<table border=\"1\" class=\"dataframe\">\n  <thead>\n    <tr style=\"text-align: right;\">\n      <th></th>\n      <th>title</th>\n      <th>est</th>\n      <th>genres</th>\n    </tr>\n  </thead>\n  <tbody>\n    <tr>\n      <th>0</th>\n      <td>Toy Story 3 (2010)</td>\n      <td>4.068198</td>\n      <td>[Adventure, Animation, Children, Comedy, Fanta...</td>\n    </tr>\n    <tr>\n      <th>1</th>\n      <td>My Neighbor Totoro (Tonari no Totoro) (1988)</td>\n      <td>4.008832</td>\n      <td>[Animation, Children, Drama, Fantasy]</td>\n    </tr>\n    <tr>\n      <th>2</th>\n      <td>Laputa: Castle in the Sky (Tenkû no shiro Rapy...</td>\n      <td>3.978188</td>\n      <td>[Action, Adventure, Animation, Children, Fanta...</td>\n    </tr>\n    <tr>\n      <th>3</th>\n      <td>Toy Story 2 (1999)</td>\n      <td>3.974984</td>\n      <td>[Adventure, Animation, Children, Comedy, Fantasy]</td>\n    </tr>\n    <tr>\n      <th>4</th>\n      <td>Monsters, Inc. (2001)</td>\n      <td>3.965341</td>\n      <td>[Adventure, Animation, Children, Comedy, Fantasy]</td>\n    </tr>\n    <tr>\n      <th>5</th>\n      <td>Toy Story (1995)</td>\n      <td>3.951217</td>\n      <td>[Adventure, Animation, Children, Comedy, Fantasy]</td>\n    </tr>\n    <tr>\n      <th>6</th>\n      <td>Beauty and the Beast (1991)</td>\n      <td>3.944668</td>\n      <td>[Animation, Children, Fantasy, Musical, Romanc...</td>\n    </tr>\n    <tr>\n      <th>7</th>\n      <td>Fantasia (1940)</td>\n      <td>3.943668</td>\n      <td>[Animation, Children, Fantasy, Musical]</td>\n    </tr>\n    <tr>\n      <th>8</th>\n      <td>How to Train Your Dragon (2010)</td>\n      <td>3.941652</td>\n      <td>[Adventure, Animation, Children, Fantasy, IMAX]</td>\n    </tr>\n    <tr>\n      <th>9</th>\n      <td>Tangled (2010)</td>\n      <td>3.929927</td>\n      <td>[Animation, Children, Comedy, Fantasy, Musical...</td>\n    </tr>\n  </tbody>\n</table>\n</div>"
     },
     "execution_count": 26,
     "metadata": {},
     "output_type": "execute_result"
    }
   ],
   "source": [
    "recommand_with_genres(df_main,10,['Animation','Fantasy','Children'])"
   ]
  },
  {
   "cell_type": "code",
   "execution_count": 29,
   "metadata": {},
   "outputs": [],
   "source": [
    "my_seen_movies=recommand_with_genres(df_main,10,['Animation','Fantasy','Children'])['title'].values"
   ]
  },
  {
   "cell_type": "code",
   "execution_count": 30,
   "outputs": [
    {
     "data": {
      "text/plain": "array(['Toy Story 3 (2010)',\n       'My Neighbor Totoro (Tonari no Totoro) (1988)',\n       'Laputa: Castle in the Sky (Tenkû no shiro Rapyuta) (1986)',\n       'Monsters, Inc. (2001)', 'Toy Story (1995)', 'Toy Story 2 (1999)',\n       'How to Train Your Dragon (2010)', 'Fantasia (1940)',\n       'Tangled (2010)', 'Beauty and the Beast (1991)'], dtype=object)"
     },
     "execution_count": 30,
     "metadata": {},
     "output_type": "execute_result"
    }
   ],
   "source": [
    "my_seen_movies"
   ],
   "metadata": {
    "collapsed": false
   }
  },
  {
   "cell_type": "code",
   "execution_count": 31,
   "metadata": {},
   "outputs": [
    {
     "data": {
      "text/plain": "                                           title       est\n0                     Princess Bride, The (1987)  4.165540\n1                            Forrest Gump (1994)  4.117494\n2                          Lion King, The (1994)  4.072650\n3                             Toy Story 3 (2010)  4.070223\n4                                  WALL·E (2008)  4.055467\n5                                      Up (2009)  4.051404\n6  Lord of the Rings: The Two Towers, The (2002)  3.985292\n7                             Ratatouille (2007)  3.974749\n8                                 Aladdin (1992)  3.941152\n9                               Toy Story (1995)  3.939535",
      "text/html": "<div>\n<style scoped>\n    .dataframe tbody tr th:only-of-type {\n        vertical-align: middle;\n    }\n\n    .dataframe tbody tr th {\n        vertical-align: top;\n    }\n\n    .dataframe thead th {\n        text-align: right;\n    }\n</style>\n<table border=\"1\" class=\"dataframe\">\n  <thead>\n    <tr style=\"text-align: right;\">\n      <th></th>\n      <th>title</th>\n      <th>est</th>\n    </tr>\n  </thead>\n  <tbody>\n    <tr>\n      <th>0</th>\n      <td>Princess Bride, The (1987)</td>\n      <td>4.165540</td>\n    </tr>\n    <tr>\n      <th>1</th>\n      <td>Forrest Gump (1994)</td>\n      <td>4.117494</td>\n    </tr>\n    <tr>\n      <th>2</th>\n      <td>Lion King, The (1994)</td>\n      <td>4.072650</td>\n    </tr>\n    <tr>\n      <th>3</th>\n      <td>Toy Story 3 (2010)</td>\n      <td>4.070223</td>\n    </tr>\n    <tr>\n      <th>4</th>\n      <td>WALL·E (2008)</td>\n      <td>4.055467</td>\n    </tr>\n    <tr>\n      <th>5</th>\n      <td>Up (2009)</td>\n      <td>4.051404</td>\n    </tr>\n    <tr>\n      <th>6</th>\n      <td>Lord of the Rings: The Two Towers, The (2002)</td>\n      <td>3.985292</td>\n    </tr>\n    <tr>\n      <th>7</th>\n      <td>Ratatouille (2007)</td>\n      <td>3.974749</td>\n    </tr>\n    <tr>\n      <th>8</th>\n      <td>Aladdin (1992)</td>\n      <td>3.941152</td>\n    </tr>\n    <tr>\n      <th>9</th>\n      <td>Toy Story (1995)</td>\n      <td>3.939535</td>\n    </tr>\n  </tbody>\n</table>\n</div>"
     },
     "execution_count": 31,
     "metadata": {},
     "output_type": "execute_result"
    }
   ],
   "source": [
    "recommand_with_movies(df_main,10,my_seen_movies)"
   ]
  },
  {
   "cell_type": "code",
   "execution_count": 32,
   "metadata": {},
   "outputs": [
    {
     "data": {
      "text/plain": "userId\n509    10\n525     9\n177     9\n596     8\n380     8\n       ..\n487     1\n189     1\n154     1\n319     1\n10      1\nLength: 133, dtype: int64"
     },
     "execution_count": 32,
     "metadata": {},
     "output_type": "execute_result"
    }
   ],
   "source": [
    "df_main[df_main['title'].isin(my_seen_movies)].value_counts('userId')"
   ]
  },
  {
   "cell_type": "code",
   "execution_count": 33,
   "metadata": {},
   "outputs": [],
   "source": [
    "check_users=df_main[df_main['title'].isin(my_seen_movies)]['userId'].unique()"
   ]
  },
  {
   "cell_type": "code",
   "execution_count": 34,
   "metadata": {},
   "outputs": [
    {
     "data": {
      "text/plain": "userId\n87     0.200000\n606    0.166667\n401    0.112903\n471    0.111111\n251    0.090909\ndtype: float64"
     },
     "execution_count": 34,
     "metadata": {},
     "output_type": "execute_result"
    }
   ],
   "source": [
    "(df_main[df_main['title'].isin(my_seen_movies)].value_counts('userId')/df_main[df_main['userId'].isin(check_users)].value_counts('userId')).nlargest(5)"
   ]
  },
  {
   "cell_type": "code",
   "execution_count": 35,
   "metadata": {},
   "outputs": [],
   "source": [
    "recommanded_movies=recommand_user_id_ensemble(df_main,87,200,weights=(0,0,0.5))"
   ]
  },
  {
   "cell_type": "code",
   "execution_count": 37,
   "metadata": {},
   "outputs": [
    {
     "data": {
      "text/plain": "                                         title       est  point  \\\n0                          Pulp Fiction (1994)  4.252486  541.0   \n1                                 Fargo (1996)  4.180994  490.5   \n2                          Forrest Gump (1994)  4.136989  428.5   \n3   Life Is Beautiful (La Vita è bella) (1997)  4.286273  392.5   \n4                         Trainspotting (1996)  4.230609  390.0   \n6                             In Bruges (2008)  4.092245  354.5   \n11                  Lost in Translation (2003)  4.065702  320.0   \n12                         Mary and Max (2009)  4.115143  307.0   \n13       Fear and Loathing in Las Vegas (1998)  4.060368  285.0   \n14                 Little Miss Sunshine (2006)  3.946313  276.5   \n\n    svd_est_point  movie_simillarity_point  genre_simillarity_point  \n0           184.0                    156.0                    201.0  \n1           182.0                    109.0                    199.5  \n2           100.0                    132.0                    196.5  \n3           190.0                      NaN                    202.5  \n4           192.0                      NaN                    198.0  \n6           161.0                      NaN                    193.5  \n11          137.0                      NaN                    183.0  \n12          112.0                      NaN                    195.0  \n13           93.0                      NaN                    192.0  \n14          101.0                      NaN                    175.5  ",
      "text/html": "<div>\n<style scoped>\n    .dataframe tbody tr th:only-of-type {\n        vertical-align: middle;\n    }\n\n    .dataframe tbody tr th {\n        vertical-align: top;\n    }\n\n    .dataframe thead th {\n        text-align: right;\n    }\n</style>\n<table border=\"1\" class=\"dataframe\">\n  <thead>\n    <tr style=\"text-align: right;\">\n      <th></th>\n      <th>title</th>\n      <th>est</th>\n      <th>point</th>\n      <th>svd_est_point</th>\n      <th>movie_simillarity_point</th>\n      <th>genre_simillarity_point</th>\n    </tr>\n  </thead>\n  <tbody>\n    <tr>\n      <th>0</th>\n      <td>Pulp Fiction (1994)</td>\n      <td>4.252486</td>\n      <td>541.0</td>\n      <td>184.0</td>\n      <td>156.0</td>\n      <td>201.0</td>\n    </tr>\n    <tr>\n      <th>1</th>\n      <td>Fargo (1996)</td>\n      <td>4.180994</td>\n      <td>490.5</td>\n      <td>182.0</td>\n      <td>109.0</td>\n      <td>199.5</td>\n    </tr>\n    <tr>\n      <th>2</th>\n      <td>Forrest Gump (1994)</td>\n      <td>4.136989</td>\n      <td>428.5</td>\n      <td>100.0</td>\n      <td>132.0</td>\n      <td>196.5</td>\n    </tr>\n    <tr>\n      <th>3</th>\n      <td>Life Is Beautiful (La Vita è bella) (1997)</td>\n      <td>4.286273</td>\n      <td>392.5</td>\n      <td>190.0</td>\n      <td>NaN</td>\n      <td>202.5</td>\n    </tr>\n    <tr>\n      <th>4</th>\n      <td>Trainspotting (1996)</td>\n      <td>4.230609</td>\n      <td>390.0</td>\n      <td>192.0</td>\n      <td>NaN</td>\n      <td>198.0</td>\n    </tr>\n    <tr>\n      <th>6</th>\n      <td>In Bruges (2008)</td>\n      <td>4.092245</td>\n      <td>354.5</td>\n      <td>161.0</td>\n      <td>NaN</td>\n      <td>193.5</td>\n    </tr>\n    <tr>\n      <th>11</th>\n      <td>Lost in Translation (2003)</td>\n      <td>4.065702</td>\n      <td>320.0</td>\n      <td>137.0</td>\n      <td>NaN</td>\n      <td>183.0</td>\n    </tr>\n    <tr>\n      <th>12</th>\n      <td>Mary and Max (2009)</td>\n      <td>4.115143</td>\n      <td>307.0</td>\n      <td>112.0</td>\n      <td>NaN</td>\n      <td>195.0</td>\n    </tr>\n    <tr>\n      <th>13</th>\n      <td>Fear and Loathing in Las Vegas (1998)</td>\n      <td>4.060368</td>\n      <td>285.0</td>\n      <td>93.0</td>\n      <td>NaN</td>\n      <td>192.0</td>\n    </tr>\n    <tr>\n      <th>14</th>\n      <td>Little Miss Sunshine (2006)</td>\n      <td>3.946313</td>\n      <td>276.5</td>\n      <td>101.0</td>\n      <td>NaN</td>\n      <td>175.5</td>\n    </tr>\n  </tbody>\n</table>\n</div>"
     },
     "execution_count": 37,
     "metadata": {},
     "output_type": "execute_result"
    }
   ],
   "source": [
    "recommanded_movies.loc[recommanded_movies['genre_simillarity_point'].dropna().index,:].head(10)"
   ]
  },
  {
   "cell_type": "code",
   "execution_count": 38,
   "metadata": {},
   "outputs": [
    {
     "data": {
      "text/plain": "                          title       est  point  svd_est_point  \\\n0           Pulp Fiction (1994)  4.252486  541.0          184.0   \n1                  Fargo (1996)  4.180994  490.5          182.0   \n2           Forrest Gump (1994)  4.136989  428.5          100.0   \n5             Fight Club (1999)  4.232279  377.0          193.0   \n7      Big Lebowski, The (1998)  3.978704  353.0          195.0   \n8             Goodfellas (1990)  4.257937  353.0          199.0   \n9            Matrix, The (1999)  4.107130  336.0          170.0   \n10        Reservoir Dogs (1992)  4.181208  326.0          180.0   \n16  Seven (a.k.a. Se7en) (1995)  4.166299  269.0          186.0   \n19              Predator (1987)  4.166437  255.0          188.0   \n\n    movie_simillarity_point  genre_simillarity_point  \n0                     156.0                    201.0  \n1                     109.0                    199.5  \n2                     132.0                    196.5  \n5                     184.0                      NaN  \n7                     158.0                      NaN  \n8                     154.0                      NaN  \n9                     166.0                      NaN  \n10                    146.0                      NaN  \n16                     83.0                      NaN  \n19                     67.0                      NaN  ",
      "text/html": "<div>\n<style scoped>\n    .dataframe tbody tr th:only-of-type {\n        vertical-align: middle;\n    }\n\n    .dataframe tbody tr th {\n        vertical-align: top;\n    }\n\n    .dataframe thead th {\n        text-align: right;\n    }\n</style>\n<table border=\"1\" class=\"dataframe\">\n  <thead>\n    <tr style=\"text-align: right;\">\n      <th></th>\n      <th>title</th>\n      <th>est</th>\n      <th>point</th>\n      <th>svd_est_point</th>\n      <th>movie_simillarity_point</th>\n      <th>genre_simillarity_point</th>\n    </tr>\n  </thead>\n  <tbody>\n    <tr>\n      <th>0</th>\n      <td>Pulp Fiction (1994)</td>\n      <td>4.252486</td>\n      <td>541.0</td>\n      <td>184.0</td>\n      <td>156.0</td>\n      <td>201.0</td>\n    </tr>\n    <tr>\n      <th>1</th>\n      <td>Fargo (1996)</td>\n      <td>4.180994</td>\n      <td>490.5</td>\n      <td>182.0</td>\n      <td>109.0</td>\n      <td>199.5</td>\n    </tr>\n    <tr>\n      <th>2</th>\n      <td>Forrest Gump (1994)</td>\n      <td>4.136989</td>\n      <td>428.5</td>\n      <td>100.0</td>\n      <td>132.0</td>\n      <td>196.5</td>\n    </tr>\n    <tr>\n      <th>5</th>\n      <td>Fight Club (1999)</td>\n      <td>4.232279</td>\n      <td>377.0</td>\n      <td>193.0</td>\n      <td>184.0</td>\n      <td>NaN</td>\n    </tr>\n    <tr>\n      <th>7</th>\n      <td>Big Lebowski, The (1998)</td>\n      <td>3.978704</td>\n      <td>353.0</td>\n      <td>195.0</td>\n      <td>158.0</td>\n      <td>NaN</td>\n    </tr>\n    <tr>\n      <th>8</th>\n      <td>Goodfellas (1990)</td>\n      <td>4.257937</td>\n      <td>353.0</td>\n      <td>199.0</td>\n      <td>154.0</td>\n      <td>NaN</td>\n    </tr>\n    <tr>\n      <th>9</th>\n      <td>Matrix, The (1999)</td>\n      <td>4.107130</td>\n      <td>336.0</td>\n      <td>170.0</td>\n      <td>166.0</td>\n      <td>NaN</td>\n    </tr>\n    <tr>\n      <th>10</th>\n      <td>Reservoir Dogs (1992)</td>\n      <td>4.181208</td>\n      <td>326.0</td>\n      <td>180.0</td>\n      <td>146.0</td>\n      <td>NaN</td>\n    </tr>\n    <tr>\n      <th>16</th>\n      <td>Seven (a.k.a. Se7en) (1995)</td>\n      <td>4.166299</td>\n      <td>269.0</td>\n      <td>186.0</td>\n      <td>83.0</td>\n      <td>NaN</td>\n    </tr>\n    <tr>\n      <th>19</th>\n      <td>Predator (1987)</td>\n      <td>4.166437</td>\n      <td>255.0</td>\n      <td>188.0</td>\n      <td>67.0</td>\n      <td>NaN</td>\n    </tr>\n  </tbody>\n</table>\n</div>"
     },
     "execution_count": 38,
     "metadata": {},
     "output_type": "execute_result"
    }
   ],
   "source": [
    "recommanded_movies.loc[recommanded_movies['movie_simillarity_point'].dropna().index,:].head(10)"
   ]
  },
  {
   "cell_type": "code",
   "execution_count": 39,
   "metadata": {},
   "outputs": [
    {
     "data": {
      "text/plain": "                                        title       est  point  svd_est_point  \\\n0                         Pulp Fiction (1994)  4.252486  541.0          184.0   \n1                                Fargo (1996)  4.180994  490.5          182.0   \n2                         Forrest Gump (1994)  4.136989  428.5          100.0   \n3  Life Is Beautiful (La Vita è bella) (1997)  4.286273  392.5          190.0   \n4                        Trainspotting (1996)  4.230609  390.0          192.0   \n5                           Fight Club (1999)  4.232279  377.0          193.0   \n6                            In Bruges (2008)  4.092245  354.5          161.0   \n7                    Big Lebowski, The (1998)  3.978704  353.0          195.0   \n8                           Goodfellas (1990)  4.257937  353.0          199.0   \n9                          Matrix, The (1999)  4.107130  336.0          170.0   \n\n   movie_simillarity_point  genre_simillarity_point  \n0                    156.0                    201.0  \n1                    109.0                    199.5  \n2                    132.0                    196.5  \n3                      NaN                    202.5  \n4                      NaN                    198.0  \n5                    184.0                      NaN  \n6                      NaN                    193.5  \n7                    158.0                      NaN  \n8                    154.0                      NaN  \n9                    166.0                      NaN  ",
      "text/html": "<div>\n<style scoped>\n    .dataframe tbody tr th:only-of-type {\n        vertical-align: middle;\n    }\n\n    .dataframe tbody tr th {\n        vertical-align: top;\n    }\n\n    .dataframe thead th {\n        text-align: right;\n    }\n</style>\n<table border=\"1\" class=\"dataframe\">\n  <thead>\n    <tr style=\"text-align: right;\">\n      <th></th>\n      <th>title</th>\n      <th>est</th>\n      <th>point</th>\n      <th>svd_est_point</th>\n      <th>movie_simillarity_point</th>\n      <th>genre_simillarity_point</th>\n    </tr>\n  </thead>\n  <tbody>\n    <tr>\n      <th>0</th>\n      <td>Pulp Fiction (1994)</td>\n      <td>4.252486</td>\n      <td>541.0</td>\n      <td>184.0</td>\n      <td>156.0</td>\n      <td>201.0</td>\n    </tr>\n    <tr>\n      <th>1</th>\n      <td>Fargo (1996)</td>\n      <td>4.180994</td>\n      <td>490.5</td>\n      <td>182.0</td>\n      <td>109.0</td>\n      <td>199.5</td>\n    </tr>\n    <tr>\n      <th>2</th>\n      <td>Forrest Gump (1994)</td>\n      <td>4.136989</td>\n      <td>428.5</td>\n      <td>100.0</td>\n      <td>132.0</td>\n      <td>196.5</td>\n    </tr>\n    <tr>\n      <th>3</th>\n      <td>Life Is Beautiful (La Vita è bella) (1997)</td>\n      <td>4.286273</td>\n      <td>392.5</td>\n      <td>190.0</td>\n      <td>NaN</td>\n      <td>202.5</td>\n    </tr>\n    <tr>\n      <th>4</th>\n      <td>Trainspotting (1996)</td>\n      <td>4.230609</td>\n      <td>390.0</td>\n      <td>192.0</td>\n      <td>NaN</td>\n      <td>198.0</td>\n    </tr>\n    <tr>\n      <th>5</th>\n      <td>Fight Club (1999)</td>\n      <td>4.232279</td>\n      <td>377.0</td>\n      <td>193.0</td>\n      <td>184.0</td>\n      <td>NaN</td>\n    </tr>\n    <tr>\n      <th>6</th>\n      <td>In Bruges (2008)</td>\n      <td>4.092245</td>\n      <td>354.5</td>\n      <td>161.0</td>\n      <td>NaN</td>\n      <td>193.5</td>\n    </tr>\n    <tr>\n      <th>7</th>\n      <td>Big Lebowski, The (1998)</td>\n      <td>3.978704</td>\n      <td>353.0</td>\n      <td>195.0</td>\n      <td>158.0</td>\n      <td>NaN</td>\n    </tr>\n    <tr>\n      <th>8</th>\n      <td>Goodfellas (1990)</td>\n      <td>4.257937</td>\n      <td>353.0</td>\n      <td>199.0</td>\n      <td>154.0</td>\n      <td>NaN</td>\n    </tr>\n    <tr>\n      <th>9</th>\n      <td>Matrix, The (1999)</td>\n      <td>4.107130</td>\n      <td>336.0</td>\n      <td>170.0</td>\n      <td>166.0</td>\n      <td>NaN</td>\n    </tr>\n  </tbody>\n</table>\n</div>"
     },
     "execution_count": 39,
     "metadata": {},
     "output_type": "execute_result"
    }
   ],
   "source": [
    "recommanded_movies.loc[recommanded_movies['svd_est_point'].dropna().index,:].head(10)"
   ]
  },
  {
   "cell_type": "code",
   "execution_count": 40,
   "metadata": {},
   "outputs": [
    {
     "data": {
      "text/plain": "                                             title       est  point  \\\n21                     Crazy, Stupid, Love. (2011)  4.026352  244.5   \n24                            Inherent Vice (2014)  3.665490  218.0   \n25                     The Raid: Redemption (2011)  4.005947  215.0   \n28                 Wolf of Wall Street, The (2013)  3.986600  212.5   \n40                                Spotlight (2015)  4.184600  194.0   \n41  Fast Five (Fast and the Furious 5, The) (2011)  3.288562  193.0   \n47                             Intouchables (2011)  4.085803  190.5   \n52                            Avengers, The (2012)  3.855275  188.0   \n57                                Neighbors (2014)  3.629254  186.0   \n60                               The Artist (2011)  4.039544  184.5   \n\n    svd_est_point  movie_simillarity_point  genre_simillarity_point  \n21           57.0                      NaN                    187.5  \n24            NaN                    131.0                     87.0  \n25           25.0                    190.0                      NaN  \n28           31.0                      NaN                    181.5  \n40          194.0                      NaN                      NaN  \n41            NaN                    193.0                      NaN  \n47            NaN                      NaN                    190.5  \n52           33.0                    155.0                      NaN  \n57            NaN                    186.0                      NaN  \n60            NaN                      NaN                    184.5  ",
      "text/html": "<div>\n<style scoped>\n    .dataframe tbody tr th:only-of-type {\n        vertical-align: middle;\n    }\n\n    .dataframe tbody tr th {\n        vertical-align: top;\n    }\n\n    .dataframe thead th {\n        text-align: right;\n    }\n</style>\n<table border=\"1\" class=\"dataframe\">\n  <thead>\n    <tr style=\"text-align: right;\">\n      <th></th>\n      <th>title</th>\n      <th>est</th>\n      <th>point</th>\n      <th>svd_est_point</th>\n      <th>movie_simillarity_point</th>\n      <th>genre_simillarity_point</th>\n    </tr>\n  </thead>\n  <tbody>\n    <tr>\n      <th>21</th>\n      <td>Crazy, Stupid, Love. (2011)</td>\n      <td>4.026352</td>\n      <td>244.5</td>\n      <td>57.0</td>\n      <td>NaN</td>\n      <td>187.5</td>\n    </tr>\n    <tr>\n      <th>24</th>\n      <td>Inherent Vice (2014)</td>\n      <td>3.665490</td>\n      <td>218.0</td>\n      <td>NaN</td>\n      <td>131.0</td>\n      <td>87.0</td>\n    </tr>\n    <tr>\n      <th>25</th>\n      <td>The Raid: Redemption (2011)</td>\n      <td>4.005947</td>\n      <td>215.0</td>\n      <td>25.0</td>\n      <td>190.0</td>\n      <td>NaN</td>\n    </tr>\n    <tr>\n      <th>28</th>\n      <td>Wolf of Wall Street, The (2013)</td>\n      <td>3.986600</td>\n      <td>212.5</td>\n      <td>31.0</td>\n      <td>NaN</td>\n      <td>181.5</td>\n    </tr>\n    <tr>\n      <th>40</th>\n      <td>Spotlight (2015)</td>\n      <td>4.184600</td>\n      <td>194.0</td>\n      <td>194.0</td>\n      <td>NaN</td>\n      <td>NaN</td>\n    </tr>\n    <tr>\n      <th>41</th>\n      <td>Fast Five (Fast and the Furious 5, The) (2011)</td>\n      <td>3.288562</td>\n      <td>193.0</td>\n      <td>NaN</td>\n      <td>193.0</td>\n      <td>NaN</td>\n    </tr>\n    <tr>\n      <th>47</th>\n      <td>Intouchables (2011)</td>\n      <td>4.085803</td>\n      <td>190.5</td>\n      <td>NaN</td>\n      <td>NaN</td>\n      <td>190.5</td>\n    </tr>\n    <tr>\n      <th>52</th>\n      <td>Avengers, The (2012)</td>\n      <td>3.855275</td>\n      <td>188.0</td>\n      <td>33.0</td>\n      <td>155.0</td>\n      <td>NaN</td>\n    </tr>\n    <tr>\n      <th>57</th>\n      <td>Neighbors (2014)</td>\n      <td>3.629254</td>\n      <td>186.0</td>\n      <td>NaN</td>\n      <td>186.0</td>\n      <td>NaN</td>\n    </tr>\n    <tr>\n      <th>60</th>\n      <td>The Artist (2011)</td>\n      <td>4.039544</td>\n      <td>184.5</td>\n      <td>NaN</td>\n      <td>NaN</td>\n      <td>184.5</td>\n    </tr>\n  </tbody>\n</table>\n</div>"
     },
     "execution_count": 40,
     "metadata": {},
     "output_type": "execute_result"
    }
   ],
   "source": [
    "recommanded_movies[recommanded_movies['title'].apply(lambda x: True if int(x[-5:-1]) > 2010 else False)].head(10)"
   ]
  },
  {
   "cell_type": "code",
   "execution_count": 41,
   "metadata": {},
   "outputs": [],
   "source": [
    "title_genre_dict=df_main.drop_duplicates('title').loc[:,['title','genres']].set_index('title')['genres'].to_dict()"
   ]
  },
  {
   "cell_type": "code",
   "execution_count": 42,
   "metadata": {},
   "outputs": [],
   "source": [
    "def genre_filter(df,genre):\n",
    "    result=df[df['title'].map(title_genre_dict).apply(lambda x: True if genre in x.split('|') else False)]    \n",
    "    return result"
   ]
  },
  {
   "cell_type": "code",
   "execution_count": 43,
   "metadata": {},
   "outputs": [
    {
     "data": {
      "text/plain": "                                                 title       est  point  \\\n12                                 Mary and Max (2009)  4.115143  307.0   \n53                          Little Mermaid, The (1989)  3.809517  188.0   \n84   Girl Who Leapt Through Time, The (Toki o kaker...  3.951070  172.5   \n117         Ghost in the Shell (Kôkaku kidôtai) (1995)  4.052781  159.0   \n119                                    Zootopia (2016)  3.812964  158.0   \n122                                   Enchanted (2007)  3.805669  157.0   \n131                                  Inside Out (2015)  3.851098  153.0   \n140                  Team America: World Police (2004)  3.599945  149.0   \n142                                   Pinocchio (1940)  3.716168  148.0   \n145             Snow White and the Seven Dwarfs (1937)  3.648628  147.0   \n\n     svd_est_point  movie_simillarity_point  genre_simillarity_point  \n12           112.0                      NaN                    195.0  \n53             NaN                    188.0                      NaN  \n84             NaN                      NaN                    172.5  \n117          159.0                      NaN                      NaN  \n119          158.0                      NaN                      NaN  \n122          157.0                      NaN                      NaN  \n131            NaN                      NaN                    153.0  \n140            NaN                    149.0                      NaN  \n142            NaN                    148.0                      NaN  \n145            NaN                    147.0                      NaN  ",
      "text/html": "<div>\n<style scoped>\n    .dataframe tbody tr th:only-of-type {\n        vertical-align: middle;\n    }\n\n    .dataframe tbody tr th {\n        vertical-align: top;\n    }\n\n    .dataframe thead th {\n        text-align: right;\n    }\n</style>\n<table border=\"1\" class=\"dataframe\">\n  <thead>\n    <tr style=\"text-align: right;\">\n      <th></th>\n      <th>title</th>\n      <th>est</th>\n      <th>point</th>\n      <th>svd_est_point</th>\n      <th>movie_simillarity_point</th>\n      <th>genre_simillarity_point</th>\n    </tr>\n  </thead>\n  <tbody>\n    <tr>\n      <th>12</th>\n      <td>Mary and Max (2009)</td>\n      <td>4.115143</td>\n      <td>307.0</td>\n      <td>112.0</td>\n      <td>NaN</td>\n      <td>195.0</td>\n    </tr>\n    <tr>\n      <th>53</th>\n      <td>Little Mermaid, The (1989)</td>\n      <td>3.809517</td>\n      <td>188.0</td>\n      <td>NaN</td>\n      <td>188.0</td>\n      <td>NaN</td>\n    </tr>\n    <tr>\n      <th>84</th>\n      <td>Girl Who Leapt Through Time, The (Toki o kaker...</td>\n      <td>3.951070</td>\n      <td>172.5</td>\n      <td>NaN</td>\n      <td>NaN</td>\n      <td>172.5</td>\n    </tr>\n    <tr>\n      <th>117</th>\n      <td>Ghost in the Shell (Kôkaku kidôtai) (1995)</td>\n      <td>4.052781</td>\n      <td>159.0</td>\n      <td>159.0</td>\n      <td>NaN</td>\n      <td>NaN</td>\n    </tr>\n    <tr>\n      <th>119</th>\n      <td>Zootopia (2016)</td>\n      <td>3.812964</td>\n      <td>158.0</td>\n      <td>158.0</td>\n      <td>NaN</td>\n      <td>NaN</td>\n    </tr>\n    <tr>\n      <th>122</th>\n      <td>Enchanted (2007)</td>\n      <td>3.805669</td>\n      <td>157.0</td>\n      <td>157.0</td>\n      <td>NaN</td>\n      <td>NaN</td>\n    </tr>\n    <tr>\n      <th>131</th>\n      <td>Inside Out (2015)</td>\n      <td>3.851098</td>\n      <td>153.0</td>\n      <td>NaN</td>\n      <td>NaN</td>\n      <td>153.0</td>\n    </tr>\n    <tr>\n      <th>140</th>\n      <td>Team America: World Police (2004)</td>\n      <td>3.599945</td>\n      <td>149.0</td>\n      <td>NaN</td>\n      <td>149.0</td>\n      <td>NaN</td>\n    </tr>\n    <tr>\n      <th>142</th>\n      <td>Pinocchio (1940)</td>\n      <td>3.716168</td>\n      <td>148.0</td>\n      <td>NaN</td>\n      <td>148.0</td>\n      <td>NaN</td>\n    </tr>\n    <tr>\n      <th>145</th>\n      <td>Snow White and the Seven Dwarfs (1937)</td>\n      <td>3.648628</td>\n      <td>147.0</td>\n      <td>NaN</td>\n      <td>147.0</td>\n      <td>NaN</td>\n    </tr>\n  </tbody>\n</table>\n</div>"
     },
     "execution_count": 43,
     "metadata": {},
     "output_type": "execute_result"
    }
   ],
   "source": [
    "genre_filter(recommanded_movies,'Animation').head(10)"
   ]
  },
  {
   "cell_type": "code",
   "execution_count": null,
   "outputs": [],
   "source": [],
   "metadata": {
    "collapsed": false
   }
  }
 ],
 "metadata": {
  "kernelspec": {
   "display_name": "crawling",
   "language": "python",
   "name": "python3"
  },
  "language_info": {
   "codemirror_mode": {
    "name": "ipython",
    "version": 3
   },
   "file_extension": ".py",
   "mimetype": "text/x-python",
   "name": "python",
   "nbconvert_exporter": "python",
   "pygments_lexer": "ipython3",
   "version": "3.10.6"
  },
  "orig_nbformat": 4,
  "vscode": {
   "interpreter": {
    "hash": "10621530bc52bc3dcaea48e2b7ef028942e35d2e6e9c9234a88fefd069caf90f"
   }
  }
 },
 "nbformat": 4,
 "nbformat_minor": 2
}
