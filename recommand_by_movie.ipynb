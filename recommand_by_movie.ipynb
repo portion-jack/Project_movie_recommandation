{
 "cells": [
  {
   "cell_type": "code",
   "execution_count": 1,
   "metadata": {},
   "outputs": [],
   "source": [
    "import pandas as pd\n",
    "import datetime\n",
    "from utils.get_data import get_data\n",
    "\n",
    "from recommandation.recommand_general import recommand_general\n",
    "from recommandation.recommand_with_movie import recommand_with_movies\n",
    "from recommandation.recommand_with_genre import recommand_with_genres"
   ]
  },
  {
   "cell_type": "code",
   "execution_count": 2,
   "metadata": {},
   "outputs": [],
   "source": [
    "# get merged data\n",
    "main_raw=get_data()\n",
    "\n",
    "# using data after 2009\n",
    "df_recent=main_raw[main_raw['year'] > 2010]\n",
    "\n",
    "# using data that has more than 5 reviews\n",
    "using_movies=df_recent.value_counts('title')[df_recent.value_counts('title') > 5].index\n",
    "df_main=df_recent[df_recent['title'].isin(using_movies)].reset_index(drop=True)"
   ]
  },
  {
   "cell_type": "code",
   "execution_count": 3,
   "metadata": {},
   "outputs": [],
   "source": [
    "seen_movies = ['Inside Out (2015)','Deadpool (2016)']"
   ]
  },
  {
   "cell_type": "code",
   "execution_count": 4,
   "metadata": {},
   "outputs": [
    {
     "data": {
      "text/html": [
       "<div>\n",
       "<style scoped>\n",
       "    .dataframe tbody tr th:only-of-type {\n",
       "        vertical-align: middle;\n",
       "    }\n",
       "\n",
       "    .dataframe tbody tr th {\n",
       "        vertical-align: top;\n",
       "    }\n",
       "\n",
       "    .dataframe thead th {\n",
       "        text-align: right;\n",
       "    }\n",
       "</style>\n",
       "<table border=\"1\" class=\"dataframe\">\n",
       "  <thead>\n",
       "    <tr style=\"text-align: right;\">\n",
       "      <th></th>\n",
       "      <th>0</th>\n",
       "    </tr>\n",
       "    <tr>\n",
       "      <th>title</th>\n",
       "      <th></th>\n",
       "    </tr>\n",
       "  </thead>\n",
       "  <tbody>\n",
       "    <tr>\n",
       "      <th>Zootopia (2016)</th>\n",
       "      <td>1.182824</td>\n",
       "    </tr>\n",
       "    <tr>\n",
       "      <th>Mad Max: Fury Road (2015)</th>\n",
       "      <td>1.154625</td>\n",
       "    </tr>\n",
       "    <tr>\n",
       "      <th>Guardians of the Galaxy (2014)</th>\n",
       "      <td>1.147284</td>\n",
       "    </tr>\n",
       "    <tr>\n",
       "      <th>Star Wars: Episode VII - The Force Awakens (2015)</th>\n",
       "      <td>1.138429</td>\n",
       "    </tr>\n",
       "    <tr>\n",
       "      <th>Edge of Tomorrow (2014)</th>\n",
       "      <td>1.099885</td>\n",
       "    </tr>\n",
       "  </tbody>\n",
       "</table>\n",
       "</div>"
      ],
      "text/plain": [
       "                                                          0\n",
       "title                                                      \n",
       "Zootopia (2016)                                    1.182824\n",
       "Mad Max: Fury Road (2015)                          1.154625\n",
       "Guardians of the Galaxy (2014)                     1.147284\n",
       "Star Wars: Episode VII - The Force Awakens (2015)  1.138429\n",
       "Edge of Tomorrow (2014)                            1.099885"
      ]
     },
     "execution_count": 4,
     "metadata": {},
     "output_type": "execute_result"
    }
   ],
   "source": [
    "recommand_with_movies(df_main,5,seen_movies)"
   ]
  }
 ],
 "metadata": {
  "kernelspec": {
   "display_name": "crawling",
   "language": "python",
   "name": "python3"
  },
  "language_info": {
   "codemirror_mode": {
    "name": "ipython",
    "version": 3
   },
   "file_extension": ".py",
   "mimetype": "text/x-python",
   "name": "python",
   "nbconvert_exporter": "python",
   "pygments_lexer": "ipython3",
   "version": "3.10.6"
  },
  "orig_nbformat": 4,
  "vscode": {
   "interpreter": {
    "hash": "10621530bc52bc3dcaea48e2b7ef028942e35d2e6e9c9234a88fefd069caf90f"
   }
  }
 },
 "nbformat": 4,
 "nbformat_minor": 2
}
